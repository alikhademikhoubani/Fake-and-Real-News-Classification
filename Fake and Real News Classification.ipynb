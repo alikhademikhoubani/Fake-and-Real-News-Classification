{
 "cells": [
  {
   "cell_type": "code",
   "execution_count": 74,
   "id": "9fa80022",
   "metadata": {},
   "outputs": [],
   "source": [
    "import pandas as pd\n",
    "import spacy\n",
    "import gensim\n",
    "from sklearn.model_selection import train_test_split\n",
    "import numpy as np\n",
    "from sklearn.naive_bayes import MultinomialNB\n",
    "from sklearn.preprocessing import MinMaxScaler\n",
    "from sklearn.metrics import classification_report,confusion_matrix\n",
    "import seaborn as sns\n",
    "import matplotlib.pyplot as plt\n",
    "from sklearn.ensemble import RandomForestClassifier"
   ]
  },
  {
   "cell_type": "code",
   "execution_count": 8,
   "id": "733754f2",
   "metadata": {},
   "outputs": [
    {
     "data": {
      "text/html": [
       "<div>\n",
       "<style scoped>\n",
       "    .dataframe tbody tr th:only-of-type {\n",
       "        vertical-align: middle;\n",
       "    }\n",
       "\n",
       "    .dataframe tbody tr th {\n",
       "        vertical-align: top;\n",
       "    }\n",
       "\n",
       "    .dataframe thead th {\n",
       "        text-align: right;\n",
       "    }\n",
       "</style>\n",
       "<table border=\"1\" class=\"dataframe\">\n",
       "  <thead>\n",
       "    <tr style=\"text-align: right;\">\n",
       "      <th></th>\n",
       "      <th>Text</th>\n",
       "      <th>label</th>\n",
       "    </tr>\n",
       "  </thead>\n",
       "  <tbody>\n",
       "    <tr>\n",
       "      <th>0</th>\n",
       "      <td>Top Trump Surrogate BRUTALLY Stabs Him In The...</td>\n",
       "      <td>Fake</td>\n",
       "    </tr>\n",
       "    <tr>\n",
       "      <th>1</th>\n",
       "      <td>U.S. conservative leader optimistic of common ...</td>\n",
       "      <td>Real</td>\n",
       "    </tr>\n",
       "    <tr>\n",
       "      <th>2</th>\n",
       "      <td>Trump proposes U.S. tax overhaul, stirs concer...</td>\n",
       "      <td>Real</td>\n",
       "    </tr>\n",
       "    <tr>\n",
       "      <th>3</th>\n",
       "      <td>Court Forces Ohio To Allow Millions Of Illega...</td>\n",
       "      <td>Fake</td>\n",
       "    </tr>\n",
       "    <tr>\n",
       "      <th>4</th>\n",
       "      <td>Democrats say Trump agrees to work on immigrat...</td>\n",
       "      <td>Real</td>\n",
       "    </tr>\n",
       "  </tbody>\n",
       "</table>\n",
       "</div>"
      ],
      "text/plain": [
       "                                                Text label\n",
       "0   Top Trump Surrogate BRUTALLY Stabs Him In The...  Fake\n",
       "1  U.S. conservative leader optimistic of common ...  Real\n",
       "2  Trump proposes U.S. tax overhaul, stirs concer...  Real\n",
       "3   Court Forces Ohio To Allow Millions Of Illega...  Fake\n",
       "4  Democrats say Trump agrees to work on immigrat...  Real"
      ]
     },
     "execution_count": 8,
     "metadata": {},
     "output_type": "execute_result"
    }
   ],
   "source": [
    "df=pd.read_csv('fake_and_real_news.csv')\n",
    "df.head()"
   ]
  },
  {
   "cell_type": "code",
   "execution_count": 9,
   "id": "9f487f6b",
   "metadata": {},
   "outputs": [
    {
     "data": {
      "text/plain": [
       "(9900, 2)"
      ]
     },
     "execution_count": 9,
     "metadata": {},
     "output_type": "execute_result"
    }
   ],
   "source": [
    "df.shape"
   ]
  },
  {
   "cell_type": "code",
   "execution_count": 10,
   "id": "2d830bf1",
   "metadata": {},
   "outputs": [
    {
     "data": {
      "text/plain": [
       "label\n",
       "Fake    5000\n",
       "Real    4900\n",
       "Name: count, dtype: int64"
      ]
     },
     "execution_count": 10,
     "metadata": {},
     "output_type": "execute_result"
    }
   ],
   "source": [
    "df.label.value_counts()"
   ]
  },
  {
   "cell_type": "code",
   "execution_count": 11,
   "id": "2698689f",
   "metadata": {},
   "outputs": [],
   "source": [
    "df['label_num']=df['label'].map({\n",
    "    'Fake':0,\n",
    "    'Real':1\n",
    "})"
   ]
  },
  {
   "cell_type": "code",
   "execution_count": 12,
   "id": "eaedb141",
   "metadata": {},
   "outputs": [
    {
     "data": {
      "text/html": [
       "<div>\n",
       "<style scoped>\n",
       "    .dataframe tbody tr th:only-of-type {\n",
       "        vertical-align: middle;\n",
       "    }\n",
       "\n",
       "    .dataframe tbody tr th {\n",
       "        vertical-align: top;\n",
       "    }\n",
       "\n",
       "    .dataframe thead th {\n",
       "        text-align: right;\n",
       "    }\n",
       "</style>\n",
       "<table border=\"1\" class=\"dataframe\">\n",
       "  <thead>\n",
       "    <tr style=\"text-align: right;\">\n",
       "      <th></th>\n",
       "      <th>Text</th>\n",
       "      <th>label</th>\n",
       "      <th>label_num</th>\n",
       "    </tr>\n",
       "  </thead>\n",
       "  <tbody>\n",
       "    <tr>\n",
       "      <th>0</th>\n",
       "      <td>Top Trump Surrogate BRUTALLY Stabs Him In The...</td>\n",
       "      <td>Fake</td>\n",
       "      <td>0</td>\n",
       "    </tr>\n",
       "    <tr>\n",
       "      <th>1</th>\n",
       "      <td>U.S. conservative leader optimistic of common ...</td>\n",
       "      <td>Real</td>\n",
       "      <td>1</td>\n",
       "    </tr>\n",
       "    <tr>\n",
       "      <th>2</th>\n",
       "      <td>Trump proposes U.S. tax overhaul, stirs concer...</td>\n",
       "      <td>Real</td>\n",
       "      <td>1</td>\n",
       "    </tr>\n",
       "    <tr>\n",
       "      <th>3</th>\n",
       "      <td>Court Forces Ohio To Allow Millions Of Illega...</td>\n",
       "      <td>Fake</td>\n",
       "      <td>0</td>\n",
       "    </tr>\n",
       "    <tr>\n",
       "      <th>4</th>\n",
       "      <td>Democrats say Trump agrees to work on immigrat...</td>\n",
       "      <td>Real</td>\n",
       "      <td>1</td>\n",
       "    </tr>\n",
       "  </tbody>\n",
       "</table>\n",
       "</div>"
      ],
      "text/plain": [
       "                                                Text label  label_num\n",
       "0   Top Trump Surrogate BRUTALLY Stabs Him In The...  Fake          0\n",
       "1  U.S. conservative leader optimistic of common ...  Real          1\n",
       "2  Trump proposes U.S. tax overhaul, stirs concer...  Real          1\n",
       "3   Court Forces Ohio To Allow Millions Of Illega...  Fake          0\n",
       "4  Democrats say Trump agrees to work on immigrat...  Real          1"
      ]
     },
     "execution_count": 12,
     "metadata": {},
     "output_type": "execute_result"
    }
   ],
   "source": [
    "df.head()"
   ]
  },
  {
   "cell_type": "code",
   "execution_count": 18,
   "id": "3927966c",
   "metadata": {},
   "outputs": [
    {
     "data": {
      "text/html": [
       "<div>\n",
       "<style scoped>\n",
       "    .dataframe tbody tr th:only-of-type {\n",
       "        vertical-align: middle;\n",
       "    }\n",
       "\n",
       "    .dataframe tbody tr th {\n",
       "        vertical-align: top;\n",
       "    }\n",
       "\n",
       "    .dataframe thead th {\n",
       "        text-align: right;\n",
       "    }\n",
       "</style>\n",
       "<table border=\"1\" class=\"dataframe\">\n",
       "  <thead>\n",
       "    <tr style=\"text-align: right;\">\n",
       "      <th></th>\n",
       "      <th>texts</th>\n",
       "    </tr>\n",
       "  </thead>\n",
       "  <tbody>\n",
       "    <tr>\n",
       "      <th>0</th>\n",
       "      <td>Donald Trump just couldn t wish all Americans ...</td>\n",
       "    </tr>\n",
       "    <tr>\n",
       "      <th>1</th>\n",
       "      <td>House Intelligence Committee Chairman Devin Nu...</td>\n",
       "    </tr>\n",
       "    <tr>\n",
       "      <th>2</th>\n",
       "      <td>On Friday, it was revealed that former Milwauk...</td>\n",
       "    </tr>\n",
       "    <tr>\n",
       "      <th>3</th>\n",
       "      <td>On Christmas day, Donald Trump announced that ...</td>\n",
       "    </tr>\n",
       "    <tr>\n",
       "      <th>4</th>\n",
       "      <td>Pope Francis used his annual Christmas Day mes...</td>\n",
       "    </tr>\n",
       "  </tbody>\n",
       "</table>\n",
       "</div>"
      ],
      "text/plain": [
       "                                               texts\n",
       "0  Donald Trump just couldn t wish all Americans ...\n",
       "1  House Intelligence Committee Chairman Devin Nu...\n",
       "2  On Friday, it was revealed that former Milwauk...\n",
       "3  On Christmas day, Donald Trump announced that ...\n",
       "4  Pope Francis used his annual Christmas Day mes..."
      ]
     },
     "execution_count": 18,
     "metadata": {},
     "output_type": "execute_result"
    }
   ],
   "source": [
    "data=pd.read_csv('all_news.csv',encoding='unicode_escape')\n",
    "data.head()"
   ]
  },
  {
   "cell_type": "code",
   "execution_count": 19,
   "id": "c25c459c",
   "metadata": {},
   "outputs": [
    {
     "data": {
      "text/plain": [
       "(72158, 1)"
      ]
     },
     "execution_count": 19,
     "metadata": {},
     "output_type": "execute_result"
    }
   ],
   "source": [
    "data.shape"
   ]
  },
  {
   "cell_type": "code",
   "execution_count": 20,
   "id": "8dcf7652",
   "metadata": {},
   "outputs": [],
   "source": [
    "nlp=spacy.load('en_core_web_lg')"
   ]
  },
  {
   "cell_type": "code",
   "execution_count": 25,
   "id": "d042d556",
   "metadata": {},
   "outputs": [],
   "source": [
    "sen=data['texts'].apply(gensim.utils.simple_preprocess)"
   ]
  },
  {
   "cell_type": "code",
   "execution_count": 26,
   "id": "77a9d2fb",
   "metadata": {},
   "outputs": [
    {
     "data": {
      "text/plain": [
       "0        [donald, trump, just, couldn, wish, all, ameri...\n",
       "1        [house, intelligence, committee, chairman, dev...\n",
       "2        [on, friday, it, was, revealed, that, former, ...\n",
       "3        [on, christmas, day, donald, trump, announced,...\n",
       "4        [pope, francis, used, his, annual, christmas, ...\n",
       "                               ...                        \n",
       "72153    [two, indian, air, force, doctors, who, have, ...\n",
       "72154    [nasa, juno, space, probe, has, discovered, an...\n",
       "72155    [university, of, konstanz, researchers, have, ...\n",
       "72156    [renowned, astrophysicist, professor, shashiku...\n",
       "72157    [scientists, have, found, two, dwarf, giraffes...\n",
       "Name: texts, Length: 72158, dtype: object"
      ]
     },
     "execution_count": 26,
     "metadata": {},
     "output_type": "execute_result"
    }
   ],
   "source": [
    "sen"
   ]
  },
  {
   "cell_type": "code",
   "execution_count": 28,
   "id": "8852c599",
   "metadata": {},
   "outputs": [],
   "source": [
    "model=gensim.models.Word2Vec(\n",
    "    window=15,\n",
    "    min_count=2,\n",
    "    workers=4\n",
    ")"
   ]
  },
  {
   "cell_type": "code",
   "execution_count": 30,
   "id": "f9812584",
   "metadata": {},
   "outputs": [],
   "source": [
    "model.build_vocab(sen,progress_per=1000)"
   ]
  },
  {
   "cell_type": "code",
   "execution_count": 31,
   "id": "1ac2e13f",
   "metadata": {},
   "outputs": [
    {
     "data": {
      "text/plain": [
       "(649643236, 810282090)"
      ]
     },
     "execution_count": 31,
     "metadata": {},
     "output_type": "execute_result"
    }
   ],
   "source": [
    "model.train(sen,total_examples=data.shape[0],epochs=30)"
   ]
  },
  {
   "cell_type": "code",
   "execution_count": 33,
   "id": "fd628b03",
   "metadata": {},
   "outputs": [
    {
     "data": {
      "text/plain": [
       "0.3208628"
      ]
     },
     "execution_count": 33,
     "metadata": {},
     "output_type": "execute_result"
    }
   ],
   "source": [
    "model.wv.similarity(w1='good',w2='well')"
   ]
  },
  {
   "cell_type": "code",
   "execution_count": 34,
   "id": "f4d30454",
   "metadata": {},
   "outputs": [
    {
     "data": {
      "text/plain": [
       "0.99999994"
      ]
     },
     "execution_count": 34,
     "metadata": {},
     "output_type": "execute_result"
    }
   ],
   "source": [
    "model.wv.similarity(w1='good',w2='good')"
   ]
  },
  {
   "cell_type": "code",
   "execution_count": 35,
   "id": "d5824a87",
   "metadata": {},
   "outputs": [
    {
     "data": {
      "text/plain": [
       "[('bad', 0.7948259711265564),\n",
       " ('great', 0.700438916683197),\n",
       " ('best', 0.615281879901886),\n",
       " ('nice', 0.5957589745521545),\n",
       " ('big', 0.5746447443962097),\n",
       " ('happy', 0.5654069781303406),\n",
       " ('wonderful', 0.5642993450164795),\n",
       " ('terrible', 0.5603330135345459),\n",
       " ('sad', 0.5560271739959717),\n",
       " ('ûïgood', 0.5460181832313538)]"
      ]
     },
     "execution_count": 35,
     "metadata": {},
     "output_type": "execute_result"
    }
   ],
   "source": [
    "model.wv.most_similar('good')"
   ]
  },
  {
   "cell_type": "code",
   "execution_count": 36,
   "id": "b6fb3532",
   "metadata": {},
   "outputs": [
    {
     "data": {
      "text/plain": [
       "array([-0.04188424, -0.15960184,  0.10243255, -0.07551287,  0.05108891,\n",
       "       -0.07923163,  0.06658479, -0.00778067, -0.04330095, -0.01502826,\n",
       "       -0.13145691,  0.08924788,  0.00512541,  0.02091096,  0.00620236,\n",
       "       -0.08572938,  0.0867833 ,  0.00285356, -0.0015462 , -0.08776444,\n",
       "       -0.01935246,  0.03005608,  0.09921838, -0.10619088, -0.04208838,\n",
       "       -0.10815655,  0.08487785, -0.04358341, -0.09418537,  0.09112844,\n",
       "        0.105754  , -0.04894894, -0.18003829,  0.12365069,  0.00893395,\n",
       "       -0.06570331, -0.02905753,  0.02287699,  0.00093022, -0.10838614,\n",
       "       -0.04767582, -0.02140042,  0.07998741,  0.23323622, -0.02972533,\n",
       "        0.00735948, -0.01568069, -0.0452344 ,  0.08303065, -0.07563606,\n",
       "        0.07335704,  0.00478283, -0.07057221, -0.06302091, -0.10027812,\n",
       "        0.059261  ,  0.11892514, -0.05293966, -0.08752592,  0.00117845,\n",
       "        0.06076736,  0.00651101,  0.04266606, -0.15799953, -0.17099449,\n",
       "        0.0412748 , -0.09151581,  0.03731912,  0.13529348,  0.12387256,\n",
       "       -0.08969411, -0.04945605, -0.0400773 , -0.05482498, -0.17487028,\n",
       "        0.25241244,  0.05105217,  0.05308843,  0.00976128, -0.16594656,\n",
       "       -0.06317613,  0.13445468, -0.04353152,  0.08353125, -0.03383743,\n",
       "        0.14885834, -0.01748776,  0.02785173, -0.04572316,  0.13709225,\n",
       "       -0.05001273, -0.08164933, -0.0941948 , -0.0255584 , -0.01545786,\n",
       "       -0.05484458,  0.02268225, -0.06531356, -0.05294969, -0.0314653 ],\n",
       "      dtype=float32)"
      ]
     },
     "execution_count": 36,
     "metadata": {},
     "output_type": "execute_result"
    }
   ],
   "source": [
    "model.wv.get_mean_vector(['worry','understand'])"
   ]
  },
  {
   "cell_type": "code",
   "execution_count": 37,
   "id": "691f29b3",
   "metadata": {},
   "outputs": [
    {
     "data": {
      "text/plain": [
       "100"
      ]
     },
     "execution_count": 37,
     "metadata": {},
     "output_type": "execute_result"
    }
   ],
   "source": [
    "len(model.wv.get_mean_vector(['worry','understand']))"
   ]
  },
  {
   "cell_type": "code",
   "execution_count": 38,
   "id": "198779ab",
   "metadata": {},
   "outputs": [
    {
     "data": {
      "text/plain": [
       "array([ -4.1559305 ,  -5.928827  ,  -1.2914207 ,   1.4036605 ,\n",
       "         6.1063113 ,  -1.1341707 ,   1.0903789 ,  -0.94827795,\n",
       "         2.0571427 ,  -1.1719959 ,  -0.26236135,   3.5991483 ,\n",
       "        -3.2838814 ,   0.7630518 ,   1.3094214 ,   0.9951051 ,\n",
       "         1.1160084 ,  -0.37995926,   2.7830544 ,   2.3657389 ,\n",
       "         0.47797403,  -5.514417  ,   0.8405339 ,  -3.6720245 ,\n",
       "        -1.3739525 ,  -2.1248317 ,   3.7510624 ,  -2.3586648 ,\n",
       "         0.86846393,   1.945035  ,   0.10748545,  -6.5340843 ,\n",
       "        -1.4046888 ,  -3.6471255 ,   2.552086  ,  -0.60138804,\n",
       "        -2.1880307 ,  -2.953119  ,   0.40230182,  -4.5127115 ,\n",
       "        -0.44529477,  -2.8970268 ,  -0.40938985,   3.3516607 ,\n",
       "        -0.38235596,  -1.5726156 ,   4.310907  ,  -0.98581403,\n",
       "         0.67750657,  -6.0415683 ,  -1.0720822 ,  -4.052423  ,\n",
       "         0.61461014, -10.261132  ,  -0.65789634,   6.357897  ,\n",
       "         5.2688494 ,   1.6274986 ,  -3.453799  ,  -5.664184  ,\n",
       "        -4.3331976 ,  -1.1184013 ,  -3.644675  ,   3.7526686 ,\n",
       "        -2.0151415 ,   0.507157  ,   2.4058108 ,   3.3331661 ,\n",
       "        -5.209642  ,   2.798588  ,   1.7341862 ,   3.3354595 ,\n",
       "        -4.743609  ,  -0.67739004,  -4.256176  ,   5.395083  ,\n",
       "        -3.6501422 ,   3.8918626 ,   3.521308  ,   3.2370157 ,\n",
       "        -3.681923  ,  -6.191372  ,   1.7573748 ,  -0.43803525,\n",
       "        -0.1460383 ,  -0.43741238,  -2.2260387 ,   2.5835345 ,\n",
       "        -2.2933626 ,   3.6702223 ,   2.2316158 ,   0.47895592,\n",
       "        -0.7612404 ,   2.8611777 ,   0.19875316,  -4.0971613 ,\n",
       "         2.4772186 ,  -1.42091   ,   2.794409  ,  -0.22596036],\n",
       "      dtype=float32)"
      ]
     },
     "execution_count": 38,
     "metadata": {},
     "output_type": "execute_result"
    }
   ],
   "source": [
    "model.wv['good']"
   ]
  },
  {
   "cell_type": "code",
   "execution_count": 39,
   "id": "95364da4",
   "metadata": {},
   "outputs": [
    {
     "data": {
      "text/plain": [
       "100"
      ]
     },
     "execution_count": 39,
     "metadata": {},
     "output_type": "execute_result"
    }
   ],
   "source": [
    "len(model.wv['good'])"
   ]
  },
  {
   "cell_type": "code",
   "execution_count": 45,
   "id": "8bdfb435",
   "metadata": {},
   "outputs": [],
   "source": [
    "def preprocessing_and_vectorize(text):\n",
    "    doc=nlp(text)\n",
    "    tokens=[]\n",
    "    for token in doc:\n",
    "        if token.is_punct or token.is_stop:\n",
    "            continue\n",
    "        tokens.append(token.lemma_)\n",
    "    return model.wv.get_mean_vector(tokens)"
   ]
  },
  {
   "cell_type": "code",
   "execution_count": 46,
   "id": "e0841292",
   "metadata": {},
   "outputs": [],
   "source": [
    "df['vector']=df['Text'].apply(preprocessing_and_vectorize)"
   ]
  },
  {
   "cell_type": "code",
   "execution_count": 47,
   "id": "1cffd60c",
   "metadata": {},
   "outputs": [
    {
     "data": {
      "text/html": [
       "<div>\n",
       "<style scoped>\n",
       "    .dataframe tbody tr th:only-of-type {\n",
       "        vertical-align: middle;\n",
       "    }\n",
       "\n",
       "    .dataframe tbody tr th {\n",
       "        vertical-align: top;\n",
       "    }\n",
       "\n",
       "    .dataframe thead th {\n",
       "        text-align: right;\n",
       "    }\n",
       "</style>\n",
       "<table border=\"1\" class=\"dataframe\">\n",
       "  <thead>\n",
       "    <tr style=\"text-align: right;\">\n",
       "      <th></th>\n",
       "      <th>Text</th>\n",
       "      <th>label</th>\n",
       "      <th>label_num</th>\n",
       "      <th>vector</th>\n",
       "    </tr>\n",
       "  </thead>\n",
       "  <tbody>\n",
       "    <tr>\n",
       "      <th>0</th>\n",
       "      <td>Top Trump Surrogate BRUTALLY Stabs Him In The...</td>\n",
       "      <td>Fake</td>\n",
       "      <td>0</td>\n",
       "      <td>[-0.031247323, -0.04827995, 0.048157968, -0.01...</td>\n",
       "    </tr>\n",
       "    <tr>\n",
       "      <th>1</th>\n",
       "      <td>U.S. conservative leader optimistic of common ...</td>\n",
       "      <td>Real</td>\n",
       "      <td>1</td>\n",
       "      <td>[-0.016201196, 0.007183526, 0.0056833564, 0.01...</td>\n",
       "    </tr>\n",
       "    <tr>\n",
       "      <th>2</th>\n",
       "      <td>Trump proposes U.S. tax overhaul, stirs concer...</td>\n",
       "      <td>Real</td>\n",
       "      <td>1</td>\n",
       "      <td>[-0.014588407, 0.0009242861, 0.027419273, -0.0...</td>\n",
       "    </tr>\n",
       "    <tr>\n",
       "      <th>3</th>\n",
       "      <td>Court Forces Ohio To Allow Millions Of Illega...</td>\n",
       "      <td>Fake</td>\n",
       "      <td>0</td>\n",
       "      <td>[-0.0016664162, 0.020361127, -0.0053699636, -0...</td>\n",
       "    </tr>\n",
       "    <tr>\n",
       "      <th>4</th>\n",
       "      <td>Democrats say Trump agrees to work on immigrat...</td>\n",
       "      <td>Real</td>\n",
       "      <td>1</td>\n",
       "      <td>[-0.03275438, -0.0055802288, 0.0236319, -0.008...</td>\n",
       "    </tr>\n",
       "  </tbody>\n",
       "</table>\n",
       "</div>"
      ],
      "text/plain": [
       "                                                Text label  label_num  \\\n",
       "0   Top Trump Surrogate BRUTALLY Stabs Him In The...  Fake          0   \n",
       "1  U.S. conservative leader optimistic of common ...  Real          1   \n",
       "2  Trump proposes U.S. tax overhaul, stirs concer...  Real          1   \n",
       "3   Court Forces Ohio To Allow Millions Of Illega...  Fake          0   \n",
       "4  Democrats say Trump agrees to work on immigrat...  Real          1   \n",
       "\n",
       "                                              vector  \n",
       "0  [-0.031247323, -0.04827995, 0.048157968, -0.01...  \n",
       "1  [-0.016201196, 0.007183526, 0.0056833564, 0.01...  \n",
       "2  [-0.014588407, 0.0009242861, 0.027419273, -0.0...  \n",
       "3  [-0.0016664162, 0.020361127, -0.0053699636, -0...  \n",
       "4  [-0.03275438, -0.0055802288, 0.0236319, -0.008...  "
      ]
     },
     "execution_count": 47,
     "metadata": {},
     "output_type": "execute_result"
    }
   ],
   "source": [
    "df.head()"
   ]
  },
  {
   "cell_type": "code",
   "execution_count": 49,
   "id": "b13529ea",
   "metadata": {},
   "outputs": [],
   "source": [
    "X_train,X_test,y_train,y_test=train_test_split(df['vector'],df['label_num'],test_size=0.2,random_state=101,\n",
    "                                              stratify=df['label_num'],shuffle=True)"
   ]
  },
  {
   "cell_type": "code",
   "execution_count": 50,
   "id": "f2b5aa70",
   "metadata": {},
   "outputs": [
    {
     "data": {
      "text/plain": [
       "2370    [-0.012528018, 0.021711616, 0.022072988, 0.014...\n",
       "2278    [-0.018061906, -0.022593455, 0.04285057, -0.00...\n",
       "1114    [-0.010478051, 0.011013286, 0.021104325, 0.006...\n",
       "5355    [0.01487144, 0.038022906, 0.020632932, -0.0161...\n",
       "5018    [-0.024151823, 0.006733743, 0.023948206, 0.024...\n",
       "                              ...                        \n",
       "7711    [-0.0056694136, -0.016276587, 0.019355102, 0.0...\n",
       "2445    [-0.0053149015, 0.006035825, 0.01055243, -0.01...\n",
       "5747    [0.007045328, 0.0100930575, 0.00076824904, 0.0...\n",
       "4996    [-0.02966494, -0.0057813567, 0.005408599, 0.00...\n",
       "3969    [-0.03414605, -0.03526895, -0.035819408, -0.05...\n",
       "Name: vector, Length: 7920, dtype: object"
      ]
     },
     "execution_count": 50,
     "metadata": {},
     "output_type": "execute_result"
    }
   ],
   "source": [
    "X_train"
   ]
  },
  {
   "cell_type": "code",
   "execution_count": 52,
   "id": "ac1e0a89",
   "metadata": {},
   "outputs": [
    {
     "data": {
      "text/plain": [
       "(7920,)"
      ]
     },
     "execution_count": 52,
     "metadata": {},
     "output_type": "execute_result"
    }
   ],
   "source": [
    "X_train.shape"
   ]
  },
  {
   "cell_type": "code",
   "execution_count": 53,
   "id": "70109007",
   "metadata": {},
   "outputs": [
    {
     "data": {
      "text/plain": [
       "(1980,)"
      ]
     },
     "execution_count": 53,
     "metadata": {},
     "output_type": "execute_result"
    }
   ],
   "source": [
    "X_test.shape"
   ]
  },
  {
   "cell_type": "code",
   "execution_count": 54,
   "id": "278150a9",
   "metadata": {},
   "outputs": [
    {
     "data": {
      "text/plain": [
       "label_num\n",
       "0    4000\n",
       "1    3920\n",
       "Name: count, dtype: int64"
      ]
     },
     "execution_count": 54,
     "metadata": {},
     "output_type": "execute_result"
    }
   ],
   "source": [
    "y_train.value_counts()"
   ]
  },
  {
   "cell_type": "code",
   "execution_count": 55,
   "id": "721c8eef",
   "metadata": {},
   "outputs": [
    {
     "data": {
      "text/plain": [
       "label_num\n",
       "0    1000\n",
       "1     980\n",
       "Name: count, dtype: int64"
      ]
     },
     "execution_count": 55,
     "metadata": {},
     "output_type": "execute_result"
    }
   ],
   "source": [
    "y_test.value_counts()"
   ]
  },
  {
   "cell_type": "code",
   "execution_count": 57,
   "id": "1f24d88b",
   "metadata": {},
   "outputs": [],
   "source": [
    "X_train_2d=np.stack(X_train)\n",
    "X_test_2d=np.stack(X_test)"
   ]
  },
  {
   "cell_type": "code",
   "execution_count": 59,
   "id": "f7ca6ba5",
   "metadata": {},
   "outputs": [
    {
     "data": {
      "text/plain": [
       "array([[-0.01252802,  0.02171162,  0.02207299, ..., -0.02930767,\n",
       "        -0.01003207, -0.00343915],\n",
       "       [-0.01806191, -0.02259346,  0.04285057, ...,  0.02768688,\n",
       "        -0.02181142,  0.02669482],\n",
       "       [-0.01047805,  0.01101329,  0.02110432, ..., -0.03129005,\n",
       "        -0.0451973 ,  0.0169284 ],\n",
       "       ...,\n",
       "       [ 0.00704533,  0.01009306,  0.00076825, ...,  0.00626965,\n",
       "        -0.00227514,  0.03926522],\n",
       "       [-0.02966494, -0.00578136,  0.0054086 , ...,  0.01767019,\n",
       "        -0.00439252,  0.01006276],\n",
       "       [-0.03414605, -0.03526895, -0.03581941, ...,  0.06270663,\n",
       "         0.00566544,  0.02364725]], dtype=float32)"
      ]
     },
     "execution_count": 59,
     "metadata": {},
     "output_type": "execute_result"
    }
   ],
   "source": [
    "X_train_2d"
   ]
  },
  {
   "cell_type": "code",
   "execution_count": 63,
   "id": "943806ae",
   "metadata": {},
   "outputs": [],
   "source": [
    "scaler=MinMaxScaler()"
   ]
  },
  {
   "cell_type": "code",
   "execution_count": 64,
   "id": "26702b48",
   "metadata": {},
   "outputs": [],
   "source": [
    "X_train_scaled=scaler.fit_transform(X_train_2d)\n",
    "X_test_scaled=scaler.fit_transform(X_test_2d)"
   ]
  },
  {
   "cell_type": "code",
   "execution_count": 66,
   "id": "5b7a8140",
   "metadata": {},
   "outputs": [
    {
     "data": {
      "text/html": [
       "<style>#sk-container-id-1 {color: black;}#sk-container-id-1 pre{padding: 0;}#sk-container-id-1 div.sk-toggleable {background-color: white;}#sk-container-id-1 label.sk-toggleable__label {cursor: pointer;display: block;width: 100%;margin-bottom: 0;padding: 0.3em;box-sizing: border-box;text-align: center;}#sk-container-id-1 label.sk-toggleable__label-arrow:before {content: \"▸\";float: left;margin-right: 0.25em;color: #696969;}#sk-container-id-1 label.sk-toggleable__label-arrow:hover:before {color: black;}#sk-container-id-1 div.sk-estimator:hover label.sk-toggleable__label-arrow:before {color: black;}#sk-container-id-1 div.sk-toggleable__content {max-height: 0;max-width: 0;overflow: hidden;text-align: left;background-color: #f0f8ff;}#sk-container-id-1 div.sk-toggleable__content pre {margin: 0.2em;color: black;border-radius: 0.25em;background-color: #f0f8ff;}#sk-container-id-1 input.sk-toggleable__control:checked~div.sk-toggleable__content {max-height: 200px;max-width: 100%;overflow: auto;}#sk-container-id-1 input.sk-toggleable__control:checked~label.sk-toggleable__label-arrow:before {content: \"▾\";}#sk-container-id-1 div.sk-estimator input.sk-toggleable__control:checked~label.sk-toggleable__label {background-color: #d4ebff;}#sk-container-id-1 div.sk-label input.sk-toggleable__control:checked~label.sk-toggleable__label {background-color: #d4ebff;}#sk-container-id-1 input.sk-hidden--visually {border: 0;clip: rect(1px 1px 1px 1px);clip: rect(1px, 1px, 1px, 1px);height: 1px;margin: -1px;overflow: hidden;padding: 0;position: absolute;width: 1px;}#sk-container-id-1 div.sk-estimator {font-family: monospace;background-color: #f0f8ff;border: 1px dotted black;border-radius: 0.25em;box-sizing: border-box;margin-bottom: 0.5em;}#sk-container-id-1 div.sk-estimator:hover {background-color: #d4ebff;}#sk-container-id-1 div.sk-parallel-item::after {content: \"\";width: 100%;border-bottom: 1px solid gray;flex-grow: 1;}#sk-container-id-1 div.sk-label:hover label.sk-toggleable__label {background-color: #d4ebff;}#sk-container-id-1 div.sk-serial::before {content: \"\";position: absolute;border-left: 1px solid gray;box-sizing: border-box;top: 0;bottom: 0;left: 50%;z-index: 0;}#sk-container-id-1 div.sk-serial {display: flex;flex-direction: column;align-items: center;background-color: white;padding-right: 0.2em;padding-left: 0.2em;position: relative;}#sk-container-id-1 div.sk-item {position: relative;z-index: 1;}#sk-container-id-1 div.sk-parallel {display: flex;align-items: stretch;justify-content: center;background-color: white;position: relative;}#sk-container-id-1 div.sk-item::before, #sk-container-id-1 div.sk-parallel-item::before {content: \"\";position: absolute;border-left: 1px solid gray;box-sizing: border-box;top: 0;bottom: 0;left: 50%;z-index: -1;}#sk-container-id-1 div.sk-parallel-item {display: flex;flex-direction: column;z-index: 1;position: relative;background-color: white;}#sk-container-id-1 div.sk-parallel-item:first-child::after {align-self: flex-end;width: 50%;}#sk-container-id-1 div.sk-parallel-item:last-child::after {align-self: flex-start;width: 50%;}#sk-container-id-1 div.sk-parallel-item:only-child::after {width: 0;}#sk-container-id-1 div.sk-dashed-wrapped {border: 1px dashed gray;margin: 0 0.4em 0.5em 0.4em;box-sizing: border-box;padding-bottom: 0.4em;background-color: white;}#sk-container-id-1 div.sk-label label {font-family: monospace;font-weight: bold;display: inline-block;line-height: 1.2em;}#sk-container-id-1 div.sk-label-container {text-align: center;}#sk-container-id-1 div.sk-container {/* jupyter's `normalize.less` sets `[hidden] { display: none; }` but bootstrap.min.css set `[hidden] { display: none !important; }` so we also need the `!important` here to be able to override the default hidden behavior on the sphinx rendered scikit-learn.org. See: https://github.com/scikit-learn/scikit-learn/issues/21755 */display: inline-block !important;position: relative;}#sk-container-id-1 div.sk-text-repr-fallback {display: none;}</style><div id=\"sk-container-id-1\" class=\"sk-top-container\"><div class=\"sk-text-repr-fallback\"><pre>MultinomialNB()</pre><b>In a Jupyter environment, please rerun this cell to show the HTML representation or trust the notebook. <br />On GitHub, the HTML representation is unable to render, please try loading this page with nbviewer.org.</b></div><div class=\"sk-container\" hidden><div class=\"sk-item\"><div class=\"sk-estimator sk-toggleable\"><input class=\"sk-toggleable__control sk-hidden--visually\" id=\"sk-estimator-id-1\" type=\"checkbox\" checked><label for=\"sk-estimator-id-1\" class=\"sk-toggleable__label sk-toggleable__label-arrow\">MultinomialNB</label><div class=\"sk-toggleable__content\"><pre>MultinomialNB()</pre></div></div></div></div></div>"
      ],
      "text/plain": [
       "MultinomialNB()"
      ]
     },
     "execution_count": 66,
     "metadata": {},
     "output_type": "execute_result"
    }
   ],
   "source": [
    "nb=MultinomialNB()\n",
    "nb.fit(X_train_scaled,y_train)"
   ]
  },
  {
   "cell_type": "code",
   "execution_count": 67,
   "id": "2cc8ea29",
   "metadata": {},
   "outputs": [],
   "source": [
    "pred_nb=nb.predict(X_test_scaled)"
   ]
  },
  {
   "cell_type": "code",
   "execution_count": 69,
   "id": "d53c2bd7",
   "metadata": {},
   "outputs": [
    {
     "name": "stdout",
     "output_type": "stream",
     "text": [
      "              precision    recall  f1-score   support\n",
      "\n",
      "           0       0.92      0.82      0.87      1000\n",
      "           1       0.84      0.93      0.88       980\n",
      "\n",
      "    accuracy                           0.88      1980\n",
      "   macro avg       0.88      0.88      0.88      1980\n",
      "weighted avg       0.88      0.88      0.88      1980\n",
      "\n"
     ]
    }
   ],
   "source": [
    "print(classification_report(y_test,pred_nb))"
   ]
  },
  {
   "cell_type": "code",
   "execution_count": 73,
   "id": "0cfbe977",
   "metadata": {},
   "outputs": [
    {
     "data": {
      "image/png": "[encoded data removed]",
      "text/plain": [
       "<Figure size 648x504 with 2 Axes>"
      ]
     },
     "metadata": {
      "needs_background": "light"
     },
     "output_type": "display_data"
    }
   ],
   "source": [
    "plt.figure(figsize=(9,7))\n",
    "sns.heatmap(confusion_matrix(y_test,pred_nb),annot=True,square=True,cbar=True,annot_kws={'size':15},fmt='d',cmap='Blues')\n",
    "plt.title('Confusion Matrix for MultinomialNB')\n",
    "plt.xlabel('Predicted')\n",
    "plt.ylabel('Truth')\n",
    "plt.show()"
   ]
  },
  {
   "cell_type": "code",
   "execution_count": 75,
   "id": "bfa14fcc",
   "metadata": {},
   "outputs": [],
   "source": [
    "rf=RandomForestClassifier()"
   ]
  },
  {
   "cell_type": "code",
   "execution_count": 76,
   "id": "38d8bb37",
   "metadata": {},
   "outputs": [
    {
     "data": {
      "text/html": [
       "<style>#sk-container-id-2 {color: black;}#sk-container-id-2 pre{padding: 0;}#sk-container-id-2 div.sk-toggleable {background-color: white;}#sk-container-id-2 label.sk-toggleable__label {cursor: pointer;display: block;width: 100%;margin-bottom: 0;padding: 0.3em;box-sizing: border-box;text-align: center;}#sk-container-id-2 label.sk-toggleable__label-arrow:before {content: \"▸\";float: left;margin-right: 0.25em;color: #696969;}#sk-container-id-2 label.sk-toggleable__label-arrow:hover:before {color: black;}#sk-container-id-2 div.sk-estimator:hover label.sk-toggleable__label-arrow:before {color: black;}#sk-container-id-2 div.sk-toggleable__content {max-height: 0;max-width: 0;overflow: hidden;text-align: left;background-color: #f0f8ff;}#sk-container-id-2 div.sk-toggleable__content pre {margin: 0.2em;color: black;border-radius: 0.25em;background-color: #f0f8ff;}#sk-container-id-2 input.sk-toggleable__control:checked~div.sk-toggleable__content {max-height: 200px;max-width: 100%;overflow: auto;}#sk-container-id-2 input.sk-toggleable__control:checked~label.sk-toggleable__label-arrow:before {content: \"▾\";}#sk-container-id-2 div.sk-estimator input.sk-toggleable__control:checked~label.sk-toggleable__label {background-color: #d4ebff;}#sk-container-id-2 div.sk-label input.sk-toggleable__control:checked~label.sk-toggleable__label {background-color: #d4ebff;}#sk-container-id-2 input.sk-hidden--visually {border: 0;clip: rect(1px 1px 1px 1px);clip: rect(1px, 1px, 1px, 1px);height: 1px;margin: -1px;overflow: hidden;padding: 0;position: absolute;width: 1px;}#sk-container-id-2 div.sk-estimator {font-family: monospace;background-color: #f0f8ff;border: 1px dotted black;border-radius: 0.25em;box-sizing: border-box;margin-bottom: 0.5em;}#sk-container-id-2 div.sk-estimator:hover {background-color: #d4ebff;}#sk-container-id-2 div.sk-parallel-item::after {content: \"\";width: 100%;border-bottom: 1px solid gray;flex-grow: 1;}#sk-container-id-2 div.sk-label:hover label.sk-toggleable__label {background-color: #d4ebff;}#sk-container-id-2 div.sk-serial::before {content: \"\";position: absolute;border-left: 1px solid gray;box-sizing: border-box;top: 0;bottom: 0;left: 50%;z-index: 0;}#sk-container-id-2 div.sk-serial {display: flex;flex-direction: column;align-items: center;background-color: white;padding-right: 0.2em;padding-left: 0.2em;position: relative;}#sk-container-id-2 div.sk-item {position: relative;z-index: 1;}#sk-container-id-2 div.sk-parallel {display: flex;align-items: stretch;justify-content: center;background-color: white;position: relative;}#sk-container-id-2 div.sk-item::before, #sk-container-id-2 div.sk-parallel-item::before {content: \"\";position: absolute;border-left: 1px solid gray;box-sizing: border-box;top: 0;bottom: 0;left: 50%;z-index: -1;}#sk-container-id-2 div.sk-parallel-item {display: flex;flex-direction: column;z-index: 1;position: relative;background-color: white;}#sk-container-id-2 div.sk-parallel-item:first-child::after {align-self: flex-end;width: 50%;}#sk-container-id-2 div.sk-parallel-item:last-child::after {align-self: flex-start;width: 50%;}#sk-container-id-2 div.sk-parallel-item:only-child::after {width: 0;}#sk-container-id-2 div.sk-dashed-wrapped {border: 1px dashed gray;margin: 0 0.4em 0.5em 0.4em;box-sizing: border-box;padding-bottom: 0.4em;background-color: white;}#sk-container-id-2 div.sk-label label {font-family: monospace;font-weight: bold;display: inline-block;line-height: 1.2em;}#sk-container-id-2 div.sk-label-container {text-align: center;}#sk-container-id-2 div.sk-container {/* jupyter's `normalize.less` sets `[hidden] { display: none; }` but bootstrap.min.css set `[hidden] { display: none !important; }` so we also need the `!important` here to be able to override the default hidden behavior on the sphinx rendered scikit-learn.org. See: https://github.com/scikit-learn/scikit-learn/issues/21755 */display: inline-block !important;position: relative;}#sk-container-id-2 div.sk-text-repr-fallback {display: none;}</style><div id=\"sk-container-id-2\" class=\"sk-top-container\"><div class=\"sk-text-repr-fallback\"><pre>RandomForestClassifier()</pre><b>In a Jupyter environment, please rerun this cell to show the HTML representation or trust the notebook. <br />On GitHub, the HTML representation is unable to render, please try loading this page with nbviewer.org.</b></div><div class=\"sk-container\" hidden><div class=\"sk-item\"><div class=\"sk-estimator sk-toggleable\"><input class=\"sk-toggleable__control sk-hidden--visually\" id=\"sk-estimator-id-2\" type=\"checkbox\" checked><label for=\"sk-estimator-id-2\" class=\"sk-toggleable__label sk-toggleable__label-arrow\">RandomForestClassifier</label><div class=\"sk-toggleable__content\"><pre>RandomForestClassifier()</pre></div></div></div></div></div>"
      ],
      "text/plain": [
       "RandomForestClassifier()"
      ]
     },
     "execution_count": 76,
     "metadata": {},
     "output_type": "execute_result"
    }
   ],
   "source": [
    "rf.fit(X_train_scaled,y_train)"
   ]
  },
  {
   "cell_type": "code",
   "execution_count": 77,
   "id": "89d3f431",
   "metadata": {},
   "outputs": [],
   "source": [
    "pred_rf=rf.predict(X_test_scaled)"
   ]
  },
  {
   "cell_type": "code",
   "execution_count": 78,
   "id": "4f5fdae1",
   "metadata": {},
   "outputs": [
    {
     "name": "stdout",
     "output_type": "stream",
     "text": [
      "              precision    recall  f1-score   support\n",
      "\n",
      "           0       0.97      0.88      0.92      1000\n",
      "           1       0.89      0.97      0.93       980\n",
      "\n",
      "    accuracy                           0.93      1980\n",
      "   macro avg       0.93      0.93      0.93      1980\n",
      "weighted avg       0.93      0.93      0.93      1980\n",
      "\n"
     ]
    }
   ],
   "source": [
    "print(classification_report(y_test,pred_rf))"
   ]
  },
  {
   "cell_type": "code",
   "execution_count": 79,
   "id": "fc099e40",
   "metadata": {},
   "outputs": [
    {
     "data": {
      "image/png": "[encoded data removed]",
      "text/plain": [
       "<Figure size 648x504 with 2 Axes>"
      ]
     },
     "metadata": {
      "needs_background": "light"
     },
     "output_type": "display_data"
    }
   ],
   "source": [
    "plt.figure(figsize=(9,7))\n",
    "sns.heatmap(confusion_matrix(y_test,pred_rf),annot=True,square=True,cbar=True,annot_kws={'size':15},fmt='d',cmap='Blues')\n",
    "plt.title('Confusion Matrix for Random Forest Classifier')\n",
    "plt.xlabel('Predicted')\n",
    "plt.ylabel('Truth')\n",
    "plt.show()"
   ]
  }
 ],
 "metadata": {
  "kernelspec": {
   "display_name": "Python 3 (ipykernel)",
   "language": "python",
   "name": "python3"
  },
  "language_info": {
   "codemirror_mode": {
    "name": "ipython",
    "version": 3
   },
   "file_extension": ".py",
   "mimetype": "text/x-python",
   "name": "python",
   "nbconvert_exporter": "python",
   "pygments_lexer": "ipython3",
   "version": "3.10.5"
  }
 },
 "nbformat": 4,
 "nbformat_minor": 5
}
